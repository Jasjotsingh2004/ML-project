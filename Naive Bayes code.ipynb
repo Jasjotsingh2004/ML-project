{
 "cells": [
  {
   "cell_type": "code",
   "execution_count": 1,
   "id": "cb6d66fe",
   "metadata": {},
   "outputs": [],
   "source": [
    "import numpy as np \n",
    "import pandas as pd\n",
    "import matplotlib.pyplot as plt\n",
    "import seaborn as sns"
   ]
  },
  {
   "cell_type": "code",
   "execution_count": 2,
   "id": "5c9619ea",
   "metadata": {},
   "outputs": [
    {
     "data": {
      "text/html": [
       "<div>\n",
       "<style scoped>\n",
       "    .dataframe tbody tr th:only-of-type {\n",
       "        vertical-align: middle;\n",
       "    }\n",
       "\n",
       "    .dataframe tbody tr th {\n",
       "        vertical-align: top;\n",
       "    }\n",
       "\n",
       "    .dataframe thead th {\n",
       "        text-align: right;\n",
       "    }\n",
       "</style>\n",
       "<table border=\"1\" class=\"dataframe\">\n",
       "  <thead>\n",
       "    <tr style=\"text-align: right;\">\n",
       "      <th></th>\n",
       "      <th>N</th>\n",
       "      <th>P</th>\n",
       "      <th>K</th>\n",
       "      <th>temperature</th>\n",
       "      <th>humidity</th>\n",
       "      <th>ph</th>\n",
       "      <th>rainfall</th>\n",
       "      <th>label</th>\n",
       "    </tr>\n",
       "  </thead>\n",
       "  <tbody>\n",
       "    <tr>\n",
       "      <th>0</th>\n",
       "      <td>90</td>\n",
       "      <td>42</td>\n",
       "      <td>43</td>\n",
       "      <td>20.879744</td>\n",
       "      <td>82.002744</td>\n",
       "      <td>6.502985</td>\n",
       "      <td>202.935536</td>\n",
       "      <td>0</td>\n",
       "    </tr>\n",
       "    <tr>\n",
       "      <th>1</th>\n",
       "      <td>75</td>\n",
       "      <td>49</td>\n",
       "      <td>15</td>\n",
       "      <td>21.535741</td>\n",
       "      <td>71.509060</td>\n",
       "      <td>5.918264</td>\n",
       "      <td>102.485293</td>\n",
       "      <td>1</td>\n",
       "    </tr>\n",
       "    <tr>\n",
       "      <th>2</th>\n",
       "      <td>91</td>\n",
       "      <td>50</td>\n",
       "      <td>40</td>\n",
       "      <td>20.824771</td>\n",
       "      <td>84.134188</td>\n",
       "      <td>6.462392</td>\n",
       "      <td>230.224222</td>\n",
       "      <td>0</td>\n",
       "    </tr>\n",
       "    <tr>\n",
       "      <th>3</th>\n",
       "      <td>67</td>\n",
       "      <td>60</td>\n",
       "      <td>25</td>\n",
       "      <td>24.921622</td>\n",
       "      <td>66.786274</td>\n",
       "      <td>5.750255</td>\n",
       "      <td>109.216228</td>\n",
       "      <td>1</td>\n",
       "    </tr>\n",
       "    <tr>\n",
       "      <th>4</th>\n",
       "      <td>60</td>\n",
       "      <td>51</td>\n",
       "      <td>36</td>\n",
       "      <td>22.696578</td>\n",
       "      <td>82.810889</td>\n",
       "      <td>6.028322</td>\n",
       "      <td>256.996476</td>\n",
       "      <td>0</td>\n",
       "    </tr>\n",
       "  </tbody>\n",
       "</table>\n",
       "</div>"
      ],
      "text/plain": [
       "    N   P   K  temperature   humidity        ph    rainfall  label\n",
       "0  90  42  43    20.879744  82.002744  6.502985  202.935536      0\n",
       "1  75  49  15    21.535741  71.509060  5.918264  102.485293      1\n",
       "2  91  50  40    20.824771  84.134188  6.462392  230.224222      0\n",
       "3  67  60  25    24.921622  66.786274  5.750255  109.216228      1\n",
       "4  60  51  36    22.696578  82.810889  6.028322  256.996476      0"
      ]
     },
     "execution_count": 2,
     "metadata": {},
     "output_type": "execute_result"
    }
   ],
   "source": [
    "CropData = pd.read_csv(\"Crop_Production.csv\")\n",
    "CropData.head()"
   ]
  },
  {
   "cell_type": "markdown",
   "id": "c1b5eead",
   "metadata": {},
   "source": [
    " **Exploratory Data Analysis (EDA)**"
   ]
  },
  {
   "cell_type": "code",
   "execution_count": 4,
   "id": "f50b9bda",
   "metadata": {},
   "outputs": [
    {
     "data": {
      "text/plain": [
       "<AxesSubplot:>"
      ]
     },
     "execution_count": 4,
     "metadata": {},
     "output_type": "execute_result"
    },
    {
     "data": {
      "image/png": "[encoded data removed]",
      "text/plain": [
       "<Figure size 432x288 with 1 Axes>"
      ]
     },
     "metadata": {
      "needs_background": "light"
     },
     "output_type": "display_data"
    }
   ],
   "source": [
    "CropData[\"label\"].hist()"
   ]
  },
  {
   "cell_type": "code",
   "execution_count": 5,
   "id": "ff673a18",
   "metadata": {},
   "outputs": [
    {
     "data": {
      "text/plain": [
       "<AxesSubplot:>"
      ]
     },
     "execution_count": 5,
     "metadata": {},
     "output_type": "execute_result"
    },
    {
     "data": {
      "image/png": "[encoded data removed]",
      "text/plain": [
       "<Figure size 432x288 with 2 Axes>"
      ]
     },
     "metadata": {
      "needs_background": "light"
     },
     "output_type": "display_data"
    }
   ],
   "source": [
    "corr = CropData.iloc[:,:-1].corr(method=\"pearson\")\n",
    "cmap = sns.diverging_palette(250,354,80,60,center='dark',as_cmap=True)\n",
    "sns.heatmap(corr, vmax=1, vmin=-.5, cmap=cmap, square=True, linewidths=.2)"
   ]
  },
  {
   "cell_type": "code",
   "execution_count": 7,
   "id": "bb5ec04d",
   "metadata": {},
   "outputs": [
    {
     "data": {
      "text/html": [
       "<div>\n",
       "<style scoped>\n",
       "    .dataframe tbody tr th:only-of-type {\n",
       "        vertical-align: middle;\n",
       "    }\n",
       "\n",
       "    .dataframe tbody tr th {\n",
       "        vertical-align: top;\n",
       "    }\n",
       "\n",
       "    .dataframe thead th {\n",
       "        text-align: right;\n",
       "    }\n",
       "</style>\n",
       "<table border=\"1\" class=\"dataframe\">\n",
       "  <thead>\n",
       "    <tr style=\"text-align: right;\">\n",
       "      <th></th>\n",
       "      <th>N</th>\n",
       "      <th>P</th>\n",
       "      <th>K</th>\n",
       "      <th>label</th>\n",
       "    </tr>\n",
       "  </thead>\n",
       "  <tbody>\n",
       "    <tr>\n",
       "      <th>0</th>\n",
       "      <td>90</td>\n",
       "      <td>42</td>\n",
       "      <td>43</td>\n",
       "      <td>0</td>\n",
       "    </tr>\n",
       "    <tr>\n",
       "      <th>1</th>\n",
       "      <td>75</td>\n",
       "      <td>49</td>\n",
       "      <td>15</td>\n",
       "      <td>1</td>\n",
       "    </tr>\n",
       "    <tr>\n",
       "      <th>2</th>\n",
       "      <td>91</td>\n",
       "      <td>50</td>\n",
       "      <td>40</td>\n",
       "      <td>0</td>\n",
       "    </tr>\n",
       "    <tr>\n",
       "      <th>3</th>\n",
       "      <td>67</td>\n",
       "      <td>60</td>\n",
       "      <td>25</td>\n",
       "      <td>1</td>\n",
       "    </tr>\n",
       "    <tr>\n",
       "      <th>4</th>\n",
       "      <td>60</td>\n",
       "      <td>51</td>\n",
       "      <td>36</td>\n",
       "      <td>0</td>\n",
       "    </tr>\n",
       "  </tbody>\n",
       "</table>\n",
       "</div>"
      ],
      "text/plain": [
       "    N   P   K  label\n",
       "0  90  42  43      0\n",
       "1  75  49  15      1\n",
       "2  91  50  40      0\n",
       "3  67  60  25      1\n",
       "4  60  51  36      0"
      ]
     },
     "execution_count": 7,
     "metadata": {},
     "output_type": "execute_result"
    }
   ],
   "source": [
    "CropData1 = CropData[[\"N\", \"P\", \"K\", \"label\"]]\n",
    "CropData1.head()"
   ]
  },
  {
   "cell_type": "code",
   "execution_count": 9,
   "id": "ca127b8b",
   "metadata": {},
   "outputs": [
    {
     "data": {
      "text/plain": [
       "<AxesSubplot:xlabel='K', ylabel='Count'>"
      ]
     },
     "execution_count": 9,
     "metadata": {},
     "output_type": "execute_result"
    },
    {
     "data": {
      "image/png": "[encoded data removed]",
      "text/plain": [
       "<Figure size 1296x432 with 3 Axes>"
      ]
     },
     "metadata": {
      "needs_background": "light"
     },
     "output_type": "display_data"
    }
   ],
   "source": [
    "fig, axes = plt.subplots(1, 3, figsize=(18, 6), sharey=True)\n",
    "sns.histplot(CropData1, ax=axes[0], x=\"N\", kde=True, color='r')\n",
    "sns.histplot(CropData1, ax=axes[1], x=\"P\", kde=True, color='b')\n",
    "sns.histplot(CropData1, ax=axes[2], x=\"K\", kde=True)"
   ]
  },
  {
   "cell_type": "code",
   "execution_count": 11,
   "id": "a7dca0be",
   "metadata": {},
   "outputs": [
    {
     "data": {
      "text/html": [
       "<div>\n",
       "<style scoped>\n",
       "    .dataframe tbody tr th:only-of-type {\n",
       "        vertical-align: middle;\n",
       "    }\n",
       "\n",
       "    .dataframe tbody tr th {\n",
       "        vertical-align: top;\n",
       "    }\n",
       "\n",
       "    .dataframe thead th {\n",
       "        text-align: right;\n",
       "    }\n",
       "</style>\n",
       "<table border=\"1\" class=\"dataframe\">\n",
       "  <thead>\n",
       "    <tr style=\"text-align: right;\">\n",
       "      <th></th>\n",
       "      <th>temperature</th>\n",
       "      <th>humidity</th>\n",
       "      <th>ph</th>\n",
       "      <th>rainfall</th>\n",
       "      <th>label</th>\n",
       "    </tr>\n",
       "  </thead>\n",
       "  <tbody>\n",
       "    <tr>\n",
       "      <th>0</th>\n",
       "      <td>20.879744</td>\n",
       "      <td>82.002744</td>\n",
       "      <td>6.502985</td>\n",
       "      <td>202.935536</td>\n",
       "      <td>0</td>\n",
       "    </tr>\n",
       "    <tr>\n",
       "      <th>1</th>\n",
       "      <td>21.535741</td>\n",
       "      <td>71.509060</td>\n",
       "      <td>5.918264</td>\n",
       "      <td>102.485293</td>\n",
       "      <td>1</td>\n",
       "    </tr>\n",
       "    <tr>\n",
       "      <th>2</th>\n",
       "      <td>20.824771</td>\n",
       "      <td>84.134188</td>\n",
       "      <td>6.462392</td>\n",
       "      <td>230.224222</td>\n",
       "      <td>0</td>\n",
       "    </tr>\n",
       "    <tr>\n",
       "      <th>3</th>\n",
       "      <td>24.921622</td>\n",
       "      <td>66.786274</td>\n",
       "      <td>5.750255</td>\n",
       "      <td>109.216228</td>\n",
       "      <td>1</td>\n",
       "    </tr>\n",
       "    <tr>\n",
       "      <th>4</th>\n",
       "      <td>22.696578</td>\n",
       "      <td>82.810889</td>\n",
       "      <td>6.028322</td>\n",
       "      <td>256.996476</td>\n",
       "      <td>0</td>\n",
       "    </tr>\n",
       "  </tbody>\n",
       "</table>\n",
       "</div>"
      ],
      "text/plain": [
       "   temperature   humidity        ph    rainfall  label\n",
       "0    20.879744  82.002744  6.502985  202.935536      0\n",
       "1    21.535741  71.509060  5.918264  102.485293      1\n",
       "2    20.824771  84.134188  6.462392  230.224222      0\n",
       "3    24.921622  66.786274  5.750255  109.216228      1\n",
       "4    22.696578  82.810889  6.028322  256.996476      0"
      ]
     },
     "execution_count": 11,
     "metadata": {},
     "output_type": "execute_result"
    }
   ],
   "source": [
    "CropData2 = CropData[[\"temperature\", \"humidity\", \"ph\", \"rainfall\" , \"label\"]]\n",
    "CropData2.head()"
   ]
  },
  {
   "cell_type": "code",
   "execution_count": 14,
   "id": "59ad5698",
   "metadata": {},
   "outputs": [
    {
     "data": {
      "text/plain": [
       "<AxesSubplot:xlabel='rainfall', ylabel='Count'>"
      ]
     },
     "execution_count": 14,
     "metadata": {},
     "output_type": "execute_result"
    },
    {
     "data": {
      "image/png": "[encoded data removed]",
      "text/plain": [
       "<Figure size 1296x432 with 4 Axes>"
      ]
     },
     "metadata": {
      "needs_background": "light"
     },
     "output_type": "display_data"
    }
   ],
   "source": [
    "fig, axes = plt.subplots(1, 4, figsize=(18, 6), sharey=True)\n",
    "sns.histplot(CropData2, ax=axes[0], x=\"temperature\", kde=True, color='y')\n",
    "sns.histplot(CropData2, ax=axes[1], x=\"humidity\", kde=True, color='g')\n",
    "sns.histplot(CropData2, ax=axes[2], x=\"ph\", kde=True, color='m')\n",
    "sns.histplot(CropData2, ax=axes[3], x=\"rainfall\", kde=True)"
   ]
  },
  {
   "cell_type": "code",
   "execution_count": 17,
   "id": "3d4f0ded",
   "metadata": {},
   "outputs": [
    {
     "data": {
      "text/html": [
       "<div>\n",
       "<style scoped>\n",
       "    .dataframe tbody tr th:only-of-type {\n",
       "        vertical-align: middle;\n",
       "    }\n",
       "\n",
       "    .dataframe tbody tr th {\n",
       "        vertical-align: top;\n",
       "    }\n",
       "\n",
       "    .dataframe thead th {\n",
       "        text-align: right;\n",
       "    }\n",
       "</style>\n",
       "<table border=\"1\" class=\"dataframe\">\n",
       "  <thead>\n",
       "    <tr style=\"text-align: right;\">\n",
       "      <th></th>\n",
       "      <th>N</th>\n",
       "      <th>P</th>\n",
       "      <th>K</th>\n",
       "      <th>temperature</th>\n",
       "      <th>humidity</th>\n",
       "      <th>ph</th>\n",
       "      <th>rainfall</th>\n",
       "    </tr>\n",
       "  </thead>\n",
       "  <tbody>\n",
       "    <tr>\n",
       "      <th>0</th>\n",
       "      <td>90</td>\n",
       "      <td>42</td>\n",
       "      <td>43</td>\n",
       "      <td>20.879744</td>\n",
       "      <td>82.002744</td>\n",
       "      <td>6.502985</td>\n",
       "      <td>202.935536</td>\n",
       "    </tr>\n",
       "    <tr>\n",
       "      <th>1</th>\n",
       "      <td>75</td>\n",
       "      <td>49</td>\n",
       "      <td>15</td>\n",
       "      <td>21.535741</td>\n",
       "      <td>71.509060</td>\n",
       "      <td>5.918264</td>\n",
       "      <td>102.485293</td>\n",
       "    </tr>\n",
       "    <tr>\n",
       "      <th>2</th>\n",
       "      <td>91</td>\n",
       "      <td>50</td>\n",
       "      <td>40</td>\n",
       "      <td>20.824771</td>\n",
       "      <td>84.134188</td>\n",
       "      <td>6.462392</td>\n",
       "      <td>230.224222</td>\n",
       "    </tr>\n",
       "    <tr>\n",
       "      <th>3</th>\n",
       "      <td>67</td>\n",
       "      <td>60</td>\n",
       "      <td>25</td>\n",
       "      <td>24.921622</td>\n",
       "      <td>66.786274</td>\n",
       "      <td>5.750255</td>\n",
       "      <td>109.216228</td>\n",
       "    </tr>\n",
       "    <tr>\n",
       "      <th>4</th>\n",
       "      <td>60</td>\n",
       "      <td>51</td>\n",
       "      <td>36</td>\n",
       "      <td>22.696578</td>\n",
       "      <td>82.810889</td>\n",
       "      <td>6.028322</td>\n",
       "      <td>256.996476</td>\n",
       "    </tr>\n",
       "  </tbody>\n",
       "</table>\n",
       "</div>"
      ],
      "text/plain": [
       "    N   P   K  temperature   humidity        ph    rainfall\n",
       "0  90  42  43    20.879744  82.002744  6.502985  202.935536\n",
       "1  75  49  15    21.535741  71.509060  5.918264  102.485293\n",
       "2  91  50  40    20.824771  84.134188  6.462392  230.224222\n",
       "3  67  60  25    24.921622  66.786274  5.750255  109.216228\n",
       "4  60  51  36    22.696578  82.810889  6.028322  256.996476"
      ]
     },
     "execution_count": 17,
     "metadata": {},
     "output_type": "execute_result"
    }
   ],
   "source": [
    "x = CropData.drop(['label'], axis=1)\n",
    "x.head()"
   ]
  },
  {
   "cell_type": "code",
   "execution_count": 18,
   "id": "dada8d3a",
   "metadata": {},
   "outputs": [
    {
     "data": {
      "text/plain": [
       "0      0\n",
       "1      1\n",
       "2      0\n",
       "3      1\n",
       "4      0\n",
       "      ..\n",
       "193    0\n",
       "194    1\n",
       "195    0\n",
       "196    0\n",
       "197    0\n",
       "Name: label, Length: 198, dtype: int64"
      ]
     },
     "execution_count": 18,
     "metadata": {},
     "output_type": "execute_result"
    }
   ],
   "source": [
    "y = CropData['label']\n",
    "y"
   ]
  },
  {
   "cell_type": "code",
   "execution_count": 19,
   "id": "34d35d5f",
   "metadata": {},
   "outputs": [],
   "source": [
    "from sklearn.model_selection import train_test_split\n",
    "X_train, X_test, y_train, y_test = train_test_split(x,y,test_size=0.3)"
   ]
  },
  {
   "cell_type": "code",
   "execution_count": 20,
   "id": "b3cf3962",
   "metadata": {},
   "outputs": [],
   "source": [
    "from sklearn.naive_bayes import GaussianNB\n",
    "model = GaussianNB()"
   ]
  },
  {
   "cell_type": "code",
   "execution_count": 21,
   "id": "9144cb36",
   "metadata": {},
   "outputs": [
    {
     "data": {
      "text/plain": [
       "GaussianNB()"
      ]
     },
     "execution_count": 21,
     "metadata": {},
     "output_type": "execute_result"
    }
   ],
   "source": [
    "model.fit(X_train,y_train)"
   ]
  },
  {
   "cell_type": "code",
   "execution_count": 22,
   "id": "7a9bc3f9",
   "metadata": {},
   "outputs": [
    {
     "data": {
      "text/plain": [
       "1.0"
      ]
     },
     "execution_count": 22,
     "metadata": {},
     "output_type": "execute_result"
    }
   ],
   "source": [
    "model.score(X_test,y_test)"
   ]
  },
  {
   "cell_type": "code",
   "execution_count": 25,
   "id": "2d2b49f8",
   "metadata": {},
   "outputs": [
    {
     "data": {
      "text/plain": [
       "array([1, 1, 0, 0, 1, 1, 1, 0, 0, 0, 0, 1, 1, 1, 1, 1, 1, 1, 0, 1, 0, 1,\n",
       "       0, 1, 0, 0, 0, 1, 1, 1, 1, 0, 1, 1, 0, 0, 0, 0, 0, 0, 0, 0, 0, 0,\n",
       "       0, 1, 1, 0, 0, 0, 0, 1, 0, 0, 1, 1, 1, 0, 0, 1], dtype=int64)"
      ]
     },
     "execution_count": 25,
     "metadata": {},
     "output_type": "execute_result"
    }
   ],
   "source": [
    "y_pred = model.predict(X_test)\n",
    "y_pred"
   ]
  },
  {
   "cell_type": "code",
   "execution_count": 24,
   "id": "75986822",
   "metadata": {},
   "outputs": [
    {
     "data": {
      "text/plain": [
       "array([[7.22408312e-22, 1.00000000e+00],\n",
       "       [5.25381713e-60, 1.00000000e+00],\n",
       "       [1.00000000e+00, 1.20956850e-26],\n",
       "       [1.00000000e+00, 5.34559380e-20],\n",
       "       [5.25850014e-85, 1.00000000e+00],\n",
       "       [2.40852570e-25, 1.00000000e+00],\n",
       "       [8.95288592e-21, 1.00000000e+00],\n",
       "       [1.00000000e+00, 6.55776317e-37],\n",
       "       [1.00000000e+00, 6.07479112e-35],\n",
       "       [1.00000000e+00, 3.45956333e-18]])"
      ]
     },
     "execution_count": 24,
     "metadata": {},
     "output_type": "execute_result"
    }
   ],
   "source": [
    "model.predict_proba(X_test[:10])"
   ]
  },
  {
   "cell_type": "code",
   "execution_count": 26,
   "id": "22126a25",
   "metadata": {},
   "outputs": [],
   "source": [
    "from sklearn.metrics import confusion_matrix, classification_report"
   ]
  },
  {
   "cell_type": "code",
   "execution_count": 27,
   "id": "08b3f443",
   "metadata": {},
   "outputs": [
    {
     "name": "stdout",
     "output_type": "stream",
     "text": [
      "[[32  0]\n",
      " [ 0 28]]\n",
      "              precision    recall  f1-score   support\n",
      "\n",
      "           0       1.00      1.00      1.00        32\n",
      "           1       1.00      1.00      1.00        28\n",
      "\n",
      "    accuracy                           1.00        60\n",
      "   macro avg       1.00      1.00      1.00        60\n",
      "weighted avg       1.00      1.00      1.00        60\n",
      "\n"
     ]
    }
   ],
   "source": [
    "#Final Report\n",
    "print(confusion_matrix(y_test,y_pred))\n",
    "print(classification_report(y_test,y_pred))"
   ]
  },
  {
   "cell_type": "code",
   "execution_count": 28,
   "id": "ee5965e1",
   "metadata": {},
   "outputs": [
    {
     "name": "stdout",
     "output_type": "stream",
     "text": [
      "maize\n"
     ]
    }
   ],
   "source": [
    "# N,P,K,temperature,humidity,ph,rainfall,label\n",
    "test = [[74,43,23,25.95263264,61.89082199,6.325235159,99.57981207]]\n",
    "\n",
    "a = model.predict(test)\n",
    "if a[0] ==0:\n",
    "    print(\"rice\")\n",
    "else:\n",
    "    print(\"maize\")"
   ]
  },
  {
   "cell_type": "code",
   "execution_count": 29,
   "id": "190c1778",
   "metadata": {},
   "outputs": [
    {
     "name": "stdout",
     "output_type": "stream",
     "text": [
      "rice\n"
     ]
    }
   ],
   "source": [
    "# N,P,K,temperature,humidity,ph,rainfall,label\n",
    "test2 = [[82,43,38,23.28617173,81.43321641,5.105588355,242.3170629]]\n",
    "\n",
    "a = model.predict(test2)\n",
    "if a[0] ==0:\n",
    "    print(\"rice\")\n",
    "else:\n",
    "    print(\"maize\")"
   ]
  },
  {
   "cell_type": "code",
   "execution_count": null,
   "id": "1296879d",
   "metadata": {},
   "outputs": [],
   "source": []
  }
 ],
 "metadata": {
  "kernelspec": {
   "display_name": "Python 3 (ipykernel)",
   "language": "python",
   "name": "python3"
  },
  "language_info": {
   "codemirror_mode": {
    "name": "ipython",
    "version": 3
   },
   "file_extension": ".py",
   "mimetype": "text/x-python",
   "name": "python",
   "nbconvert_exporter": "python",
   "pygments_lexer": "ipython3",
   "version": "3.9.7"
  }
 },
 "nbformat": 4,
 "nbformat_minor": 5
}
